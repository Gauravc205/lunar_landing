{
  "cells": [
    {
      "cell_type": "markdown",
      "metadata": {
        "id": "LbZcI9ZXHl3a"
      },
      "source": [
        "# Deep Q-Learning for Lunar Landing"
      ]
    },
    {
      "cell_type": "markdown",
      "metadata": {
        "id": "E8yPRjteXgPb"
      },
      "source": [
        "## Part 0 - Installing the required packages and importing the libraries"
      ]
    },
    {
      "cell_type": "markdown",
      "metadata": {
        "id": "slEm5teGWjWU"
      },
      "source": [
        "### Installing Gymnasium"
      ]
    },
    {
      "cell_type": "code",
      "execution_count": 1,
      "metadata": {
        "id": "dbnq3XpoKa_7",
        "colab": {
          "base_uri": "https://localhost:8080/"
        },
        "outputId": "0cc8cd7d-35bf-4387-cfdb-fb1941ca6176"
      },
      "outputs": [
        {
          "output_type": "stream",
          "name": "stdout",
          "text": [
            "Requirement already satisfied: gymnasium in /usr/local/lib/python3.11/dist-packages (1.0.0)\n",
            "Requirement already satisfied: numpy>=1.21.0 in /usr/local/lib/python3.11/dist-packages (from gymnasium) (1.26.4)\n",
            "Requirement already satisfied: cloudpickle>=1.2.0 in /usr/local/lib/python3.11/dist-packages (from gymnasium) (3.1.1)\n",
            "Requirement already satisfied: typing-extensions>=4.3.0 in /usr/local/lib/python3.11/dist-packages (from gymnasium) (4.12.2)\n",
            "Requirement already satisfied: farama-notifications>=0.0.1 in /usr/local/lib/python3.11/dist-packages (from gymnasium) (0.0.4)\n",
            "Requirement already satisfied: gymnasium[accept-rom-license,atari] in /usr/local/lib/python3.11/dist-packages (1.0.0)\n",
            "\u001b[33mWARNING: gymnasium 1.0.0 does not provide the extra 'accept-rom-license'\u001b[0m\u001b[33m\n",
            "\u001b[0mRequirement already satisfied: numpy>=1.21.0 in /usr/local/lib/python3.11/dist-packages (from gymnasium[accept-rom-license,atari]) (1.26.4)\n",
            "Requirement already satisfied: cloudpickle>=1.2.0 in /usr/local/lib/python3.11/dist-packages (from gymnasium[accept-rom-license,atari]) (3.1.1)\n",
            "Requirement already satisfied: typing-extensions>=4.3.0 in /usr/local/lib/python3.11/dist-packages (from gymnasium[accept-rom-license,atari]) (4.12.2)\n",
            "Requirement already satisfied: farama-notifications>=0.0.1 in /usr/local/lib/python3.11/dist-packages (from gymnasium[accept-rom-license,atari]) (0.0.4)\n",
            "Requirement already satisfied: ale-py>=0.9 in /usr/local/lib/python3.11/dist-packages (from gymnasium[accept-rom-license,atari]) (0.10.1)\n",
            "Reading package lists... Done\n",
            "Building dependency tree... Done\n",
            "Reading state information... Done\n",
            "swig is already the newest version (4.0.2-1ubuntu1).\n",
            "0 upgraded, 0 newly installed, 0 to remove and 49 not upgraded.\n",
            "Requirement already satisfied: gymnasium[box2d] in /usr/local/lib/python3.11/dist-packages (1.0.0)\n",
            "Requirement already satisfied: numpy>=1.21.0 in /usr/local/lib/python3.11/dist-packages (from gymnasium[box2d]) (1.26.4)\n",
            "Requirement already satisfied: cloudpickle>=1.2.0 in /usr/local/lib/python3.11/dist-packages (from gymnasium[box2d]) (3.1.1)\n",
            "Requirement already satisfied: typing-extensions>=4.3.0 in /usr/local/lib/python3.11/dist-packages (from gymnasium[box2d]) (4.12.2)\n",
            "Requirement already satisfied: farama-notifications>=0.0.1 in /usr/local/lib/python3.11/dist-packages (from gymnasium[box2d]) (0.0.4)\n",
            "Requirement already satisfied: box2d-py==2.3.5 in /usr/local/lib/python3.11/dist-packages (from gymnasium[box2d]) (2.3.5)\n",
            "Requirement already satisfied: pygame>=2.1.3 in /usr/local/lib/python3.11/dist-packages (from gymnasium[box2d]) (2.6.1)\n",
            "Requirement already satisfied: swig==4.* in /usr/local/lib/python3.11/dist-packages (from gymnasium[box2d]) (4.3.0)\n"
          ]
        }
      ],
      "source": [
        "!pip install gymnasium\n",
        "!pip install \"gymnasium[atari, accept-rom-license]\"\n",
        "!apt-get install -y swig\n",
        "!pip install gymnasium[box2d]"
      ]
    },
    {
      "cell_type": "markdown",
      "metadata": {
        "id": "brqiMN3UW9T9"
      },
      "source": [
        "### Importing the libraries\n",
        "#### All the libraries required for python"
      ]
    },
    {
      "cell_type": "code",
      "execution_count": 2,
      "metadata": {
        "id": "mZaKXP_aMl9O"
      },
      "outputs": [],
      "source": [
        "import os\n",
        "import random\n",
        "import numpy as np\n",
        "import torch\n",
        "import torch.nn as nn\n",
        "import torch.optim as optim\n",
        "import torch.nn.functional as F\n",
        "import torch.autograd as autograd\n",
        "from torch.autograd import Variable\n",
        "from collections import deque, namedtuple"
      ]
    },
    {
      "cell_type": "markdown",
      "metadata": {
        "id": "EzlDKXvkXzGI"
      },
      "source": [
        "## Part 1 - Building the AI"
      ]
    },
    {
      "cell_type": "markdown",
      "metadata": {
        "id": "UtG6Zc83YYy3"
      },
      "source": [
        "### Creating the architecture of the Neural Network"
      ]
    },
    {
      "cell_type": "code",
      "source": [
        "class Network(nn.Module):\n",
        "  def __init__(self, state_size,action_size, seed = 42):\n",
        "    super(Network, self).__init__()\n",
        "    self.seed = torch.manual_seed(seed)\n",
        "    self.fc1 = nn.Linear(state_size, 64)\n",
        "    self.fc2 = nn.Linear(64, 64)\n",
        "    self.fc3 = nn.Linear(64, action_size)\n",
        "## Implemeting Forward Method for our Neural Network Model\n",
        "  def forward(self, state):\n",
        "    x = self.fc1(state)\n",
        "    x = F.relu(x)\n",
        "    x = self.fc2(x)\n",
        "    x = F.relu(x)\n",
        "    return self.fc3(x)"
      ],
      "metadata": {
        "id": "PojF_vJnw1b5"
      },
      "execution_count": 3,
      "outputs": []
    },
    {
      "cell_type": "markdown",
      "metadata": {
        "id": "UxVrBnFWZKb1"
      },
      "source": [
        "## Part 2 - Training the AI"
      ]
    },
    {
      "cell_type": "markdown",
      "metadata": {
        "id": "T364fz9qZb2j"
      },
      "source": [
        "### Setting up the environment"
      ]
    },
    {
      "cell_type": "code",
      "source": [
        "import gymnasium as gym\n",
        "env = gym.make('LunarLander-v3') # The Lunar Lander environment was upgraded to v3\n",
        "state_shape = env.observation_space.shape\n",
        "state_size = env.observation_space.shape[0]\n",
        "number_actions = env.action_space.n\n",
        "print('State shape: ', state_shape)\n",
        "print('State size: ', state_size)\n",
        "print('Number of actions: ', number_actions)"
      ],
      "metadata": {
        "id": "41sgnpCwtd5f",
        "colab": {
          "base_uri": "https://localhost:8080/"
        },
        "outputId": "2037a237-b10c-4b51-f28b-5e4f71ad575a"
      },
      "execution_count": 4,
      "outputs": [
        {
          "output_type": "stream",
          "name": "stdout",
          "text": [
            "State shape:  (8,)\n",
            "State size:  8\n",
            "Number of actions:  4\n"
          ]
        }
      ]
    },
    {
      "cell_type": "markdown",
      "metadata": {
        "id": "c_dZmOIvZgj-"
      },
      "source": [
        "### Initializing the hyperparameters"
      ]
    },
    {
      "cell_type": "code",
      "source": [
        "learning_rate = 5e-4\n",
        "#num_episodes = 1000\n",
        "minibatch_size = 100\n",
        "discount_factor = 0.99 # gamma\n",
        "replay_buffer_size = int(1e5)\n",
        "interpolation_parameter = 1e-3"
      ],
      "metadata": {
        "id": "hlGLtscf72ZS"
      },
      "execution_count": 5,
      "outputs": []
    },
    {
      "cell_type": "markdown",
      "metadata": {
        "id": "8hD_Vs-bYnip"
      },
      "source": [
        "### Implementing Experience Replay"
      ]
    },
    {
      "cell_type": "code",
      "source": [
        "class ReplayMemory(object):\n",
        "  def __init__(self, capacity):\n",
        "    self.device = torch.device(\"cuda:0\" if torch.cuda.is_available() else \"cpu\")\n",
        "    self.capacity = capacity\n",
        "    self.memory = []\n",
        "\n",
        "# DQN Push Method - Adding Experiences to Replay monitor.\n",
        "  def push(self, event):\n",
        "    self.memory.append(event)\n",
        "    if len(self.memory) > self.capacity:\n",
        "      del self.memory[0]\n",
        "\n",
        "# DQN Memory Sampling Method - PyTorch Experiences from Replay monitor.\n",
        "  def sample(self, batch_size):\n",
        "    experiences = random.sample(self.memory,k = batch_size)\n",
        "    states = torch.from_numpy(np.vstack([e[0] for e in experiences if e is not None])).float().to(self.device)\n",
        "    actions = torch.from_numpy(np.vstack([e[1] for e in experiences if e is not None])).long().to(self.device)\n",
        "    rewards = torch.from_numpy(np.vstack([e[2] for e in experiences if e is not None])).float().to(self.device)\n",
        "    next_state = torch.from_numpy(np.vstack([e[3] for e in experiences if e is not None])).float().to(self.device)\n",
        "    dones = torch.from_numpy(np.vstack([e[4] for e in experiences if e is not None]).astype(np.uint8)).float().to(self.device)\n",
        "    return states, next_state, actions, rewards, dones"
      ],
      "metadata": {
        "id": "oV9B1-VZ1bcx"
      },
      "execution_count": 6,
      "outputs": []
    },
    {
      "cell_type": "markdown",
      "metadata": {
        "id": "JmEkbFbUY6Jt"
      },
      "source": [
        "### Implementing the DQN class"
      ]
    },
    {
      "cell_type": "code",
      "source": [
        "# Agent class that defines the behaviour of an Agent that interacts with\n",
        "# Space Env using a deep Q network.\n",
        "class Agent():\n",
        "  def __init__(self, state_size, action_size):\n",
        "    self.device = torch.device(\"cuda:0\" if torch.cuda.is_available() else \"cpu\")\n",
        "    self.state_size = state_size\n",
        "    self.action_size = action_size\n",
        "    # Target Q-Network and Local Q-Network\n",
        "    # How both Q-Nw interact with each other\n",
        "    self.local_qnetwork = Network(state_size, action_size).to(self.device)\n",
        "    self.target_qnetwork = Network(state_size, action_size).to(self.device)\n",
        "    self.optimizer = optim.Adam(self.local_qnetwork.parameters(), lr = learning_rate)\n",
        "    self.memory = ReplayMemory(replay_buffer_size)\n",
        "    self.t_step = 0\n",
        "\n",
        "# DQN Step Method - Stop & Learn from Experiences in Py\n",
        "  def step(self, state, action, reward, next_state, done):\n",
        "    self.memory.push((state, action, reward, next_state, done))\n",
        "    self.t_step = (self.t_step + 1) % 4\n",
        "    if self.t_step == 0:\n",
        "      if len(self.memory.memory) > minibatch_size:\n",
        "        experiences = self.memory.sample(100)\n",
        "        self.learn(experiences, discount_factor)\n",
        "\n",
        "# DQN Action Selection - State Processing to Policy Implementation\n",
        "  def act(self, state, epsilon = 0.):\n",
        "    # Convert state to a PyTorch Tensor and move it to the correct device\n",
        "    state = torch.from_numpy(state).float().unsqueeze(0).to(self.device)\n",
        "    self.local_qnetwork.eval()\n",
        "    with torch.no_grad():\n",
        "      action_values = self.local_qnetwork(state)\n",
        "      # action using local Q-nw (forward propogate to action values)\n",
        "    self.local_qnetwork.train()\n",
        "    if random.random() > epsilon:\n",
        "      return np.argmax(action_values.cpu().data.numpy())\n",
        "    else:\n",
        "      return random.choice(np.arange(self.action_size))\n",
        "      # random can sometimes lead to better results\n",
        "\n",
        "# DQN Learn Method for RL (Deep-Q Network Training)\n",
        "  def learn(self, experiences, discount_factor):\n",
        "    states, next_states, actions, rewards, dones = experiences\n",
        "    # maximum predicted Q-values for the next states from the local Q-network\n",
        "    # unsqueeze(1) -> tensor to 2d array\n",
        "    Q_targets_next = self.local_qnetwork(next_states).detach().max(1)[0].unsqueeze(1)\n",
        "    # Target Q values using Bellman Equation\n",
        "    Q_targets = rewards + discount_factor * Q_targets_next * (1 - dones)\n",
        "    Q_expected = self.local_qnetwork(states).gather(1, actions)\n",
        "    loss = F.mse_loss(Q_expected, Q_targets)\n",
        "    # Backpropogation\n",
        "    self.optimizer.zero_grad()\n",
        "    loss.backward()\n",
        "    self.optimizer.step()\n",
        "    # slowly blend the weights of the target network towards the weights of the local network\n",
        "    self.soft_update(self.local_qnetwork, self.target_qnetwork, interpolation_parameter)\n",
        "\n",
        "\n",
        "# DQN Soft Update Method for Stable Training\n",
        "  def soft_update(self, local_model, target_model, interpolation_parameter):\n",
        "    for target_param, local_param in zip(target_model.parameters(), local_model.parameters()):\n",
        "      target_param.data.copy_(interpolation_parameter * local_param.data + (1.0 - interpolation_parameter * target_param.data))"
      ],
      "metadata": {
        "id": "g44Yr5uG4grQ"
      },
      "execution_count": 7,
      "outputs": []
    },
    {
      "cell_type": "markdown",
      "metadata": {
        "id": "o1tZElccZmf6"
      },
      "source": [
        "### Initializing the DQN agent"
      ]
    },
    {
      "cell_type": "code",
      "source": [
        "agent = Agent(state_size, number_actions)\n",
        "# Created ht eobject"
      ],
      "metadata": {
        "id": "j9maHiG7C032"
      },
      "execution_count": 8,
      "outputs": []
    },
    {
      "cell_type": "markdown",
      "metadata": {
        "id": "E8v0PtUfaVQp"
      },
      "source": [
        "### Training the DQN agent"
      ]
    },
    {
      "cell_type": "markdown",
      "source": [
        "Now we will train brain of our AI with all the methods implemnted by us earlier like Softmax and bellman."
      ],
      "metadata": {
        "id": "IKrLQlepDHqY"
      }
    },
    {
      "cell_type": "code",
      "source": [
        "number_episodes = 2000\n",
        "maximum_number_timestamps_per_episode = 1000\n",
        "epsilon_starting_value = 1.0\n",
        "epsilon_ending_value = 0.01\n",
        "epsilon_decay_value = 0.995\n",
        "epsilon = epsilon_starting_value\n",
        "scores_on_100_episodes = deque(maxlen = 100)\n",
        "\n",
        "# Final training Loop\n",
        "\n",
        "for episode in range(1, number_episodes + 1):\n",
        "  # reset the env to its initial state\n",
        "  state, _ = env.reset()\n",
        "  score = 0\n",
        "  # timestamps over the episodes\n",
        "  for t in range(maximum_number_timestamps_per_episode):\n",
        "    # What should be an agent should do at an timestamp\n",
        "    action = agent.act(state, epsilon)\n",
        "    # Each time action is done AI is rewarded for each timestamp(score++)\n",
        "    # Reward depends on Lunar (+100 or -100 if land or not land)\n",
        "    next_state, reward, done, _, _ = env.step(action)\n",
        "    agent.step(state, action, reward, next_state, done)\n",
        "    state = next_state\n",
        "    score += reward\n",
        "    if done:\n",
        "      break\n",
        "  scores_on_100_episodes.append(score)\n",
        "  epsilon = max(epsilon_ending_value, epsilon_decay_value * epsilon)\n",
        "  print('\\rEpisode {}\\tAverage Score: {:.2f}'.format(episode, np.mean(scores_on_100_episodes)), end = \"\")\n",
        "  if episode % 100 == 0:\n",
        "    print('\\rEpisode {}\\tAverage Score: {:.2f}'.format(episode, np.mean(scores_on_100_episodes)))\n",
        "  if np.mean(scores_on_100_episodes) >= 200.0:\n",
        "    print('\\nEnvironment solved in {:d} episodes!\\tAverage Score: {:.2f}'.format(episode - 100, np.mean(scores_on_100_episodes)))\n",
        "    torch.save(agent.local_qnetwork.state_dict(), 'checkpoint.pth')\n",
        "    break"
      ],
      "metadata": {
        "colab": {
          "base_uri": "https://localhost:8080/"
        },
        "id": "VkHmtjlZDS5M",
        "outputId": "b52399ef-d7ed-4332-ee4d-44b512775f12"
      },
      "execution_count": 9,
      "outputs": [
        {
          "output_type": "stream",
          "name": "stdout",
          "text": [
            "Episode 100\tAverage Score: -157.75\n",
            "Episode 200\tAverage Score: -109.21\n",
            "Episode 300\tAverage Score: -22.21\n",
            "Episode 400\tAverage Score: -35.53\n",
            "Episode 500\tAverage Score: -22.22\n",
            "Episode 600\tAverage Score: -23.47\n",
            "Episode 700\tAverage Score: 2.66\n",
            "Episode 800\tAverage Score: 52.33\n",
            "Episode 900\tAverage Score: 92.59\n",
            "Episode 1000\tAverage Score: 95.69\n",
            "Episode 1100\tAverage Score: 116.55\n",
            "Episode 1200\tAverage Score: 166.09\n",
            "Episode 1300\tAverage Score: 192.15\n",
            "Episode 1335\tAverage Score: 201.03\n",
            "Environment solved in 1235 episodes!\tAverage Score: 201.03\n"
          ]
        }
      ]
    },
    {
      "cell_type": "markdown",
      "metadata": {
        "id": "O8CNwdOTcCoP"
      },
      "source": [
        "## Part 3 - Visualizing the results"
      ]
    },
    {
      "cell_type": "code",
      "execution_count": 11,
      "metadata": {
        "id": "cb9nVvU2Okhk",
        "colab": {
          "base_uri": "https://localhost:8080/",
          "height": 459
        },
        "outputId": "2c584037-7283-4af7-fad7-cba62cb1d4bc"
      },
      "outputs": [
        {
          "output_type": "stream",
          "name": "stderr",
          "text": [
            "WARNING:imageio_ffmpeg:IMAGEIO FFMPEG_WRITER WARNING: input image is not divisible by macro_block_size=16, resizing from (600, 400) to (608, 400) to ensure video compatibility with most codecs and players. To prevent resizing, make your input image divisible by the macro_block_size or set the macro_block_size to 1 (risking incompatibility).\n"
          ]
        },
        {
          "output_type": "display_data",
          "data": {
            "text/plain": [
              "<IPython.core.display.HTML object>"
            ],
            "text/html": [
              "<video alt=\"test\" autoplay\n",
              "                loop controls style=\"height: 400px;\">\n",
              "                <source src=\"data:video/mp4;base64,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\" type=\"video/mp4\" />\n",
              "             </video>"
            ]
          },
          "metadata": {}
        }
      ],
      "source": [
        "import glob\n",
        "import io\n",
        "import base64\n",
        "import imageio\n",
        "from IPython.display import HTML, display\n",
        "\n",
        "def show_video_of_model(agent, env_name):\n",
        "    env = gym.make(env_name, render_mode='rgb_array')\n",
        "    state, _ = env.reset()\n",
        "    done = False\n",
        "    frames = []\n",
        "    while not done:\n",
        "        frame = env.render()\n",
        "        frames.append(frame)\n",
        "        action = agent.act(state)\n",
        "        state, reward, done, _, _ = env.step(action.item())\n",
        "    env.close()\n",
        "    imageio.mimsave('video.mp4', frames, fps=30)\n",
        "\n",
        "show_video_of_model(agent, 'LunarLander-v3')\n",
        "\n",
        "def show_video():\n",
        "    mp4list = glob.glob('*.mp4')\n",
        "    if len(mp4list) > 0:\n",
        "        mp4 = mp4list[0]\n",
        "        video = io.open(mp4, 'r+b').read()\n",
        "        encoded = base64.b64encode(video)\n",
        "        display(HTML(data='''<video alt=\"test\" autoplay\n",
        "                loop controls style=\"height: 400px;\">\n",
        "                <source src=\"data:video/mp4;base64,{0}\" type=\"video/mp4\" />\n",
        "             </video>'''.format(encoded.decode('ascii'))))\n",
        "    else:\n",
        "        print(\"Could not find video\")\n",
        "\n",
        "show_video()"
      ]
    }
  ],
  "metadata": {
    "colab": {
      "provenance": []
    },
    "kernelspec": {
      "display_name": "Python 3",
      "name": "python3"
    },
    "language_info": {
      "name": "python"
    }
  },
  "nbformat": 4,
  "nbformat_minor": 0
}